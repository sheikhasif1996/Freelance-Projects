{
 "cells": [
  {
   "cell_type": "markdown",
   "metadata": {},
   "source": [
    "# Problem 1: Decision Tree Grid Search\n"
   ]
  },
  {
   "cell_type": "markdown",
   "metadata": {},
   "source": [
    "## Directions\n",
    "\n",
    "The main purpose of this problem is for you to gain experience creating and visualizing a Decision Tree along with sweeping a problem's parameter space - in this case by performing a grid search.  Doing so allows you to identify the optimal hyperparameter values to be used for training your model.\n",
    "\n",
    "## Preliminaries\n",
    "\n",
    "Let's import some common packages:"
   ]
  },
  {
   "cell_type": "code",
   "execution_count": 66,
   "metadata": {},
   "outputs": [],
   "source": [
    "import numpy as np\n",
    "from sklearn import datasets"
   ]
  },
  {
   "cell_type": "markdown",
   "metadata": {},
   "source": [
    "## Load and Split Iris Data Set\n",
    "\n",
    "Complete the following:\n",
    "\n",
    "1. Load the `Iris` data set by calling the [load_iris()](https://scikit-learn.org/stable/modules/generated/sklearn.datasets.load_iris.html) function of the `datasets` library from `sklearn` - name the dictionary that is returned `iris`. \n",
    "\n",
    "2. Call [train_test_split()](https://scikit-learn.org/stable/modules/generated/sklearn.model_selection.train_test_split.html) with a `test_size` of 40% and a `random_state` of `0`.  Save the output into `X_train`, `X_test`, `y_train`, and `y_test`, respectively. (Be sure to import the `train_test_split()` function first.)"
   ]
  },
  {
   "cell_type": "code",
   "execution_count": 67,
   "metadata": {},
   "outputs": [],
   "source": [
    "#loading iris dataset from the dataset library\n",
    "iris = datasets.load_iris()"
   ]
  },
  {
   "cell_type": "code",
   "execution_count": 68,
   "metadata": {},
   "outputs": [],
   "source": [
    "#saving features and target in variables\n",
    "X = iris.data  \n",
    "y = iris.target"
   ]
  },
  {
   "cell_type": "code",
   "execution_count": 69,
   "metadata": {},
   "outputs": [],
   "source": [
    "#splitting data into train and validation data\n",
    "from sklearn.model_selection import train_test_split\n",
    "X_train,X_test,y_train,y_test = train_test_split(X, y, test_size = 0.4, random_state = 0)"
   ]
  },
  {
   "cell_type": "markdown",
   "metadata": {},
   "source": [
    "## Create a Single Decision Tree\n",
    "\n",
    "Complete the following:\n",
    "\n",
    "(Cell 1:)\n",
    "1. Import the `DecisionTreeClassifier` class from the `sklearn.tree` library\n",
    "2. Create a DecisionTreeClassifier object called `tree_clf` with a `random_state` of `42`\n",
    "3. Fit the DecisionTreeClassifier object on the training data.\n",
    "\n",
    "(Cell 2:)\n",
    "\n",
    "4. Make a prediction on the test data, and name the predicted values output by the model `preds`.\n",
    "5. Compute the performance of the model by measuring the accuracy score on the test set.  You must import the [accuracy_score()](https://scikit-learn.org/stable/modules/generated/sklearn.metrics.accuracy_score.html) function from the `sklearn.metrics` library.  Name the accuracy score value you compute `acc_score`. \n",
    "6. Print the accuracy score to the screen.\n"
   ]
  },
  {
   "cell_type": "code",
   "execution_count": 70,
   "metadata": {},
   "outputs": [
    {
     "data": {
      "text/plain": [
       "DecisionTreeClassifier(random_state=42)"
      ]
     },
     "execution_count": 70,
     "metadata": {},
     "output_type": "execute_result"
    }
   ],
   "source": [
    "#Defining decision tree classifier model and fitting with the training data\n",
    "\n",
    "from sklearn.tree import DecisionTreeClassifier\n",
    "tree_clf = DecisionTreeClassifier(random_state=42)\n",
    "tree_clf.fit(X_train, y_train)"
   ]
  },
  {
   "cell_type": "code",
   "execution_count": 71,
   "metadata": {},
   "outputs": [
    {
     "name": "stdout",
     "output_type": "stream",
     "text": [
      "Accuracy=0.95\n"
     ]
    }
   ],
   "source": [
    "#prediction and accuracy_score\n",
    "\n",
    "preds = tree_clf.predict(X_test)\n",
    "from sklearn.metrics import accuracy_score\n",
    "acc_score = accuracy_score(y_test, preds)\n",
    "\n",
    "print('Accuracy=%s' % (acc_score))"
   ]
  },
  {
   "cell_type": "markdown",
   "metadata": {},
   "source": [
    "## Perform Grid Search\n",
    "\n",
    "Complete the following:\n",
    "\n",
    "(Cell 1:)\n",
    "1. Import the `GridSearchCV` class from the `sklearn.model_selection` library.\n",
    "2. Create a dictionary called `param_grid` with three key-value pairs.  The keys are `max_depth`, `max_leaf_nodes` and `min_samples_split`, and their respective values are `[1,2,3,4,5,8,16,32]`, `list(range(2, 20, 1))` and `[2,3,4,5,8,12,16,20]`.\n",
    "3. Instantiate an object of the `GridSearchCV` class called `grid_search_cv`.  Pass the following as input to the constructor: \n",
    "    - The model to be used. Use a `DecisionTreeClassifier` with a `random_state` parameter of `42`.\n",
    "    - The paramter grid. \n",
    "    - The hyperparameter `verbose=1`. (Look this up.)\n",
    "    - The number of cross-folds. Specify `cv=3`.\n",
    "    \n",
    "    \n",
    "4. Call the `fit()` method to perform the grid search using 3-fold cross-validation.\n",
    "5. Print the best parameters identified by the grid search using the `best_params_` attribute of the GridSearchCV object.\n",
    "\n",
    "(Cell 2:)\n",
    "\n",
    "6. Compute the predicted values `y_pred` using the test set `X_test`.\n",
    "7. Calculate the accuracy, precision, and recall scores using the `accuracy_score()`, `precision_score()`, and `recall_score()` functions.  Call these `acc_score`, `prec_score`, and `recall_score`, respectively. Set the average parameter to `micro` when calculating precision and recall to account for multiple classes.\n",
    "8. Print all three scores to the screen."
   ]
  },
  {
   "cell_type": "code",
   "execution_count": 72,
   "metadata": {},
   "outputs": [
    {
     "name": "stdout",
     "output_type": "stream",
     "text": [
      "Fitting 3 folds for each of 1152 candidates, totalling 3456 fits\n",
      "The best parameters are:  {'max_depth': 2, 'max_leaf_nodes': 3, 'min_samples_split': 2}\n"
     ]
    }
   ],
   "source": [
    "#create a model with GridSearchCV\n",
    "#fitting model\n",
    "#finding best hyper parameters\n",
    "\n",
    "from sklearn.model_selection import GridSearchCV\n",
    "param_grid = {\n",
    "    \"max_depth\": [1,2,3,4,5,8,16,32],\n",
    "    \"max_leaf_nodes\": list(range(2,20,1)),\n",
    "    \"min_samples_split\":[2,3,4,5,8,12,16,20]\n",
    "}\n",
    "grid_search_cv = GridSearchCV(DecisionTreeClassifier(random_state=42), param_grid, verbose=1, cv=3)\n",
    "grid_search_cv.fit(X_train, y_train)\n",
    "\n",
    "print(\"The best parameters are: \", grid_search_cv.best_params_)"
   ]
  },
  {
   "cell_type": "code",
   "execution_count": 73,
   "metadata": {},
   "outputs": [
    {
     "name": "stdout",
     "output_type": "stream",
     "text": [
      "Accuracy=0.8666666666666667\n",
      "Precision=0.8666666666666667\n",
      "Recall=0.8666666666666667\n"
     ]
    }
   ],
   "source": [
    "#prediction\n",
    "#finding accuracy,precision & recall score\n",
    "\n",
    "y_pred = grid_search_cv.predict(X_test)\n",
    "from sklearn.metrics import accuracy_score, precision_score, recall_score\n",
    "\n",
    "acc_score=accuracy_score(y_test, y_pred)\n",
    "prec_score = precision_score(y_test, y_pred, average= 'micro')\n",
    "recall_score = recall_score(y_test, y_pred, average= 'micro')\n",
    "\n",
    "print('Accuracy=%s' % (acc_score))\n",
    "print('Precision=%s' % (prec_score))\n",
    "print('Recall=%s' % (recall_score))"
   ]
  },
  {
   "cell_type": "markdown",
   "metadata": {},
   "source": [
    "## Visualize Optimal Decision Tree as Text\n",
    "\n",
    "Instantiate a new `DecisionTreeClassifier` object, and use the `best_params_` attribute of the `grid_search_cv` object to specify the best `max_depth`, `max_leaf_nodes` and `min_samples_split` values calculated from the grid search along with a `random_state` of `42`.  Retrain the \"optimal\" (for the few parameters that we swept) decision tree.\n",
    "\n",
    "Next, use the [tree.export_text()](https://scikit-learn.org/stable/modules/generated/sklearn.tree.export_text.html) method to visualize the \"optimal\" decision tree.  This function takes a trained classifier as its first parameter, and a set of feature names as its second parameter (the feature names are included in the `iris` dictionary returned from the `load_iris()` function).  The result is a text based visualization of the decision tree.  Note that this method returns a string, so you'll want to `print()` the result to get it to look right."
   ]
  },
  {
   "cell_type": "code",
   "execution_count": 74,
   "metadata": {},
   "outputs": [
    {
     "data": {
      "text/plain": [
       "DecisionTreeClassifier(max_depth=2, max_leaf_nodes=3, random_state=42)"
      ]
     },
     "execution_count": 74,
     "metadata": {},
     "output_type": "execute_result"
    }
   ],
   "source": [
    "#Train an optimal model with the best hyperparameters\n",
    "\n",
    "optimal_decision_tree_model = DecisionTreeClassifier(max_depth = 2, max_leaf_nodes= 3, min_samples_split = 2, random_state =42)\n",
    "optimal_decision_tree_model.fit(X_train, y_train)"
   ]
  },
  {
   "cell_type": "code",
   "execution_count": 76,
   "metadata": {
    "scrolled": true
   },
   "outputs": [
    {
     "name": "stdout",
     "output_type": "stream",
     "text": [
      "|--- petal length (cm) <= 2.35\n",
      "|   |--- class: 0\n",
      "|--- petal length (cm) >  2.35\n",
      "|   |--- petal length (cm) <= 5.05\n",
      "|   |   |--- class: 1\n",
      "|   |--- petal length (cm) >  5.05\n",
      "|   |   |--- class: 2\n",
      "\n"
     ]
    }
   ],
   "source": [
    "#textual visualization of the optimal decision tree\n",
    "\n",
    "from sklearn.tree import export_text\n",
    "print(export_text(optimal_decision_tree_model, feature_names = ['sepal length (cm)','sepal width (cm)','petal length (cm)','petal width (cm)'] ))"
   ]
  },
  {
   "cell_type": "markdown",
   "metadata": {},
   "source": [
    "## Visualize Optimal Decision Tree as Image\n",
    "\n",
    "Use the `tree.plot_tree()` method to visualize the \"optimal\" decision tree, which takes a trained classifier as its only parameter and returns a graphical visualization of the decision tree. Use `filled=True` as an argument to the method to add color to the image."
   ]
  },
  {
   "cell_type": "code",
   "execution_count": 77,
   "metadata": {},
   "outputs": [
    {
     "data": {
      "image/png": "[encoded data removed]",
      "text/plain": [
       "<Figure size 432x288 with 1 Axes>"
      ]
     },
     "metadata": {
      "needs_background": "light"
     },
     "output_type": "display_data"
    }
   ],
   "source": [
    "# Visualization of optimal Decision Tree as a plot/image\n",
    "\n",
    "from sklearn.tree import plot_tree\n",
    "plot_tree(optimal_decision_tree_model, filled=True);"
   ]
  },
  {
   "cell_type": "markdown",
   "metadata": {},
   "source": [
    "## Critical Analysis\n",
    "\n",
    "In your own words, describe or interpret the role of the gini score criterion in the decision tree algorithm. How does this compare to the entropy impurity measure? Finally, sklearn uses the CART (Classification and Regression Tree) algorithm to train Decision Trees. How does this algorithm determine the feature and threshold value to use for splitting at each step of the Decision Tree algorithm? It may be helpful to look at outside resources to help you answer these questions (The YouTube channel [\"StatQuest\"](https://youtu.be/7VeUPuFGJHk) has some excellent videos on Decision Trees for those of you that like visual explanations.) \n",
    "\n",
    "Make sure that you answer all the questions above. I am looking for **meaningful content** here that **goes into detail**. Don't just copy from the textbook or rush through answering this question."
   ]
  },
  {
   "attachments": {
    "image-5.png": {
     "image/png": "[encoded data removed]"
    }
   },
   "cell_type": "markdown",
   "metadata": {},
   "source": [
    "### Ans:\n",
    "To understand the gini score criterion, we first need to understand how decision trees work. Long story short, what a decision tree does is that it identifies features that contain the most significant information about the target and then it does the splitting. The splitting is done in such a way that the target feature values at each node achieve more purity. The best feature is the one that reduces the impurity of a node more. The splitting is stopped at the node where there is zero impurity and it is named a 'leaf'. \n",
    "\n",
    "#### Gini Index/score Vs Entropy \n",
    "\n",
    "They are two parameters by which the impurity of a split in a decision tree is calculated. With the calculated values they can determine the best split for a node. First, take a look at the equation for both. \n",
    "Gini score can be calculated using the first equation. Gini Score may range from (0 to 1).  0 value denotes the best split. The algorithm decides which node to split by calculating Gini Values. If the Gini score is lower in a particular split than other nodes in consideration then that particular node is given priority in process of splitting. If the Gini score is 0 then it means a perfect split has occurred and it becomes a leaf node where no more split is made. \n",
    "\n",
    "![image-5.png](attachment:image-5.png)\n",
    "\n",
    "#### Why gini Impurity/score is preferred over Entropy?\n",
    "\n",
    "Many state of the art algorithms use the Gini index as a default parameter. You may ask, why? This is because the calculation of the Gini index is faster and efficient for an algorithm compared to entropy impurity. As you can see from the equations given above that entropy has a logarithmic function inside it. Usually, this kind of operation takes more time than simple squaring which is the case for the Gini index.\n",
    "\n",
    "#### How CART algorithm determine features and threshold values?\n",
    "\n",
    "In order to split a node decision tree needs the best features and threshold values which are determined by the Gini index in the case of the CART algorithm. CART is an abbreviation for classification and regression trees. As the name suggests, this can be used for both kinds of problems in machine learning. \n",
    "\n",
    "CART algorithm uses Gini scores to split a node. The process is very straightforward. First of all, the algorithm specifies a root node from the training set and splits it into two separate sub-nodes. Then, the process continues and it splits the subsets using the same logic & again split the sub-subsets. It is done recursively and stops when increased splitting does not provide any pure sub-nodes."
   ]
  },
  {
   "cell_type": "markdown",
   "metadata": {},
   "source": [
    "## Ungraded Critical Thinking Question\n",
    "\n",
    "Compare the accuracy score from the first Decision Tree to the accuracy score after you performed the grid search. How does it differ? It is most likely that you will find the accuracy score has decreased. Is that what you had expected? We perform a round of grid searching in order to elucidate the optimal hyperparameter values. Why, then, has the accuracy score decreased? Most importantly, what caused this decrease in the accuracy score and why? Explain your answer."
   ]
  },
  {
   "cell_type": "markdown",
   "metadata": {},
   "source": [
    "(Write analysis here.)\n",
    "\n",
    "### Comparison of Models\n",
    "\n",
    "Accuracy score from the first decision tree: 0.95\n",
    "Accuracy score from the decision tree with greed search: 0.86\n",
    "\n",
    "It is clear from the scores that Accuracy score significantly reduced after the grid search operation. There is a 9% reduction in the accuracy score. \n",
    "\n",
    "In general, it is expected that as we find the best parameters by performing a grid search, it will improve the performance. But this may not always be the case. Let's try to understand why. \n",
    "\n",
    "First, look at the number of parameters we used in the default decision tree:\n",
    "\n",
    "    criterion='gini',\n",
    "    splitter='best',\n",
    "    max_depth=None,\n",
    "    min_samples_split=2,\n",
    "    min_samples_leaf=1,\n",
    "    min_weight_fraction_leaf=0.0,\n",
    "    max_features=None,\n",
    "    random_state=None,\n",
    "    max_leaf_nodes=None,\n",
    "    min_impurity_decrease=0.0,\n",
    "    class_weight=None,\n",
    "    ccp_alpha=0.0,\n",
    "On the contrary, we used some selected parameters while performing grid search and they are:\n",
    "\n",
    "    \"max_depth\": [1,2,3,4,5,8,16,32],\n",
    "    \"max_leaf_nodes\": list(range(2,20,1)),\n",
    "    \"min_samples_split\":[2,3,4,5,8,12,16,20]\n",
    "\n",
    "The reduction of accuracy may happen for two reasons in this particular scenario:\n",
    "\n",
    "1. The “best” parameters that GridSearchCV identifies are technically the best that could be produced, but only by the parameters that you included in your parameter grid. We selected only 3 hyperparameters to do grid search and set a list of values to choose from. We could try out some other hyperparams to redefine gridsearchsv.\n",
    "\n",
    "2. Maybe the default decision tree parameters are the best combination of hyperparameters in this case. \n",
    "\n",
    "#### Limitatios of grid search:\n",
    "\n",
    "Performance of grid search can often become misleading. The best collection of parameters is a subjective matter and is determined by condition. As it is totally determined by the fact that the search is performed on those particular parameters which are fed into the grid. So, trying out different combinations of parameters may improve the performance of the result."
   ]
  }
 ],
 "metadata": {
  "kernelspec": {
   "display_name": "Python 3",
   "language": "python",
   "name": "python3"
  },
  "language_info": {
   "codemirror_mode": {
    "name": "ipython",
    "version": 3
   },
   "file_extension": ".py",
   "mimetype": "text/x-python",
   "name": "python",
   "nbconvert_exporter": "python",
   "pygments_lexer": "ipython3",
   "version": "3.8.5"
  }
 },
 "nbformat": 4,
 "nbformat_minor": 2
}
